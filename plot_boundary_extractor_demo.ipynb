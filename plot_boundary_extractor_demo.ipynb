{
 "cells": [
  {
   "cell_type": "code",
   "execution_count": 1,
   "id": "989b96a6-6044-488c-97dd-33f6ffa32580",
   "metadata": {},
   "outputs": [
    {
     "ename": "ModuleNotFoundError",
     "evalue": "No module named 'plot_boundary_extractor'",
     "output_type": "error",
     "traceback": [
      "\u001b[0;31m---------------------------------------------------------------------------\u001b[0m",
      "\u001b[0;31mModuleNotFoundError\u001b[0m                       Traceback (most recent call last)",
      "Cell \u001b[0;32mIn[1], line 10\u001b[0m\n\u001b[1;32m      7\u001b[0m \u001b[38;5;28;01mimport\u001b[39;00m\u001b[38;5;250m \u001b[39m\u001b[38;5;21;01mmatplotlib\u001b[39;00m\u001b[38;5;21;01m.\u001b[39;00m\u001b[38;5;21;01mpyplot\u001b[39;00m\u001b[38;5;250m \u001b[39m\u001b[38;5;28;01mas\u001b[39;00m\u001b[38;5;250m \u001b[39m\u001b[38;5;21;01mplt\u001b[39;00m\n\u001b[1;32m      8\u001b[0m \u001b[38;5;28;01mimport\u001b[39;00m\u001b[38;5;250m \u001b[39m\u001b[38;5;21;01mtime\u001b[39;00m\n\u001b[0;32m---> 10\u001b[0m \u001b[38;5;28;01mfrom\u001b[39;00m\u001b[38;5;250m \u001b[39m\u001b[38;5;21;01mplot_boundary_extractor\u001b[39;00m\u001b[38;5;250m \u001b[39m\u001b[38;5;28;01mimport\u001b[39;00m PlotExtraction\n",
      "\u001b[0;31mModuleNotFoundError\u001b[0m: No module named 'plot_boundary_extractor'"
     ]
    }
   ],
   "source": [
    "import os\n",
    "import leafmap\n",
    "from datetime import date\n",
    "from d2spy.workspace import Workspace\n",
    "# import env_setting # environment setting of d2s workspace\n",
    "\n",
    "import matplotlib.pyplot as plt\n",
    "import time\n",
    "\n",
    "from plot_boundary_extractor import PlotExtraction"
   ]
  },
  {
   "cell_type": "markdown",
   "id": "00b8a2de",
   "metadata": {},
   "source": [
    "# Connect to workspace and load data product"
   ]
  },
  {
   "cell_type": "code",
   "execution_count": 17,
   "id": "20c6e48a-d3b8-41e1-9277-bf4164bbbe76",
   "metadata": {},
   "outputs": [],
   "source": [
    "# Connect to workspace\n",
    "workspace = Workspace.connect(\"https://ps2.d2s.org\")"
   ]
  },
  {
   "cell_type": "code",
   "execution_count": null,
   "id": "a70a191f",
   "metadata": {},
   "outputs": [
    {
     "name": "stdout",
     "output_type": "stream",
     "text": [
      "0 Project(title='2023 Cornell Wheat', description='USDA WheatCAP Project - Cornell University 2023 Winter Wheat Master Nursery trial at Ithaca, NY - McGowan', start_date=datetime.date(2022, 10, 11), end_date=datetime.date(2023, 6, 29))\n",
      "1 Project(title='2024 Cornell Wheat', description='USDA WheatCAP Project - Cornell University 2024 Winter Wheat Master Nursery trial at Ithaca, NY - Helfer', start_date=datetime.date(2023, 10, 11), end_date=datetime.date(2024, 7, 8))\n",
      "2 Project(title='2022 Cornell Wheat', description='USDA WheatCAP Project - Cornell University 2022 WWMASTER2022ACCT3 trial at Ithaca, NY - Helfer', start_date=datetime.date(2021, 10, 21))\n"
     ]
    }
   ],
   "source": [
    "# Change the search term in `.filter_by_title` to match your project\n",
    "projects = list(workspace.get_projects().filter_by_title(\"cornell\"))\n",
    "for i, proj in enumerate(projects):\n",
    "    print(i, proj)\n",
    "    \n",
    "index = input(\"Choose project index: \")\n",
    "project = projects[int(index)]"
   ]
  },
  {
   "cell_type": "code",
   "execution_count": null,
   "id": "7ccbe9a6",
   "metadata": {},
   "outputs": [
    {
     "name": "stdout",
     "output_type": "stream",
     "text": [
      "Flight(acquisition_date='2022-05-11', name=None, altitude=120.0, side_overlap=60.0, forward_overlap=75.0, sensor='RGB', platform='Phantom_4')\n",
      "Flight(acquisition_date='2022-05-25', name='', altitude=120.0, side_overlap=60.0, forward_overlap=75.0, sensor='Multispectral', platform='Phantom_4')\n",
      "Flight(acquisition_date='2022-05-11', name='', altitude=120.0, side_overlap=60.0, forward_overlap=75.0, sensor='Multispectral', platform='M300')\n"
     ]
    }
   ],
   "source": [
    "# Change the date range in `filter_by_date` to match the acquistion date of the flight in your project\n",
    "start_date = date(2022,5,1)\n",
    "end_date = date(2022,6,30)\n",
    "flights = project.get_flights().filter_by_date(start_date,end_date)\n",
    "for i, fli in enumerate(flights):\n",
    "    print(i, fli)\n",
    "    \n",
    "index = input(\"Select the flight: \")\n",
    "flight = flights[int(index)]"
   ]
  },
  {
   "cell_type": "code",
   "execution_count": null,
   "id": "55ec629e",
   "metadata": {},
   "outputs": [
    {
     "name": "stdout",
     "output_type": "stream",
     "text": [
      "DataProduct(data_type='ortho', filepath='/static/projects/b4ab960b-9629-46d7-881c-5612fd5ee0dd/flights/0d73f050-6a66-4922-851c-9b98e2a45dab/data_products/58822a09-c290-41ac-8248-a306fe5299cf/7c782101-90a6-42a5-b39f-c5b70d0cfb4a.tif', original_filename='20220511_cn_mic_dry_mosaic_rgb.tif', is_active=True, public=True, stac_properties={'raster': [{'data_type': 'uint8', 'stats': {'minimum': 0.0, 'maximum': 255.0, 'mean': 112.381, 'stddev': 89.018}}, {'data_type': 'uint8', 'stats': {'minimum': 0.0, 'maximum': 255.0, 'mean': 115.057, 'stddev': 66.764}}, {'data_type': 'uint8', 'stats': {'minimum': 0.0, 'maximum': 255.0, 'mean': 73.811, 'stddev': 57.792}}, {'data_type': 'uint8', 'stats': {'minimum': 0.0, 'maximum': 255.0, 'mean': 93.907, 'stddev': 122.995}}], 'eo': [{'name': 'b1', 'description': 'Red'}, {'name': 'b2', 'description': 'Green'}, {'name': 'b3', 'description': 'Blue'}, {'name': 'b4', 'description': 'Alpha'}]}, status='SUCCESS', url='https://ps2.d2s.org/static/projects/b4ab960b-9629-46d7-881c-5612fd5ee0dd/flights/0d73f050-6a66-4922-851c-9b98e2a45dab/data_products/58822a09-c290-41ac-8248-a306fe5299cf/7c782101-90a6-42a5-b39f-c5b70d0cfb4a.tif')\n"
     ]
    }
   ],
   "source": [
    "# Change the search term in `.filter_by_data_type` to match your COG's data type\n",
    "data_products = flight.get_data_products().filter_by_data_type(\"ortho\")\n",
    "if len(data_products) == 1:\n",
    "    data_product = data_products[0]\n",
    "elif len(data_products) > 1:\n",
    "    for i, dp in enumerate(data_products):\n",
    "        print(dp)\n",
    "    index = input(\"Select the data product: \")\n",
    "    data_product = data_products[int(index)]\n",
    "else:\n",
    "    print(\"No data products found\")"
   ]
  },
  {
   "cell_type": "code",
   "execution_count": 24,
   "id": "f300804b",
   "metadata": {},
   "outputs": [],
   "source": [
    "# Check for API key\n",
    "api_key = workspace.api_key\n",
    "if not api_key:\n",
    "    print(\"No API key. Please request one from the D2S profile page and re-run this cell.\")\n",
    "else:\n",
    "    os.environ[\"D2S_API_KEY\"] = api_key\n",
    "    \n",
    "os.environ[\"TITILER_ENDPOINT\"] = \"https://tt.d2s.org\""
   ]
  },
  {
   "cell_type": "markdown",
   "id": "b5edc399",
   "metadata": {},
   "source": [
    "# Initialize plot extraction class"
   ]
  },
  {
   "cell_type": "code",
   "execution_count": 25,
   "id": "75782ea7",
   "metadata": {},
   "outputs": [
    {
     "data": {
      "application/vnd.jupyter.widget-view+json": {
       "model_id": "9665769ada23477c8646806ee5fadf0d",
       "version_major": 2,
       "version_minor": 0
      },
      "text/plain": [
       "Map(center=[20, 0], controls=(ZoomControl(options=['position', 'zoom_in_text', 'zoom_in_title', 'zoom_out_text…"
      ]
     },
     "execution_count": 25,
     "metadata": {},
     "output_type": "execute_result"
    }
   ],
   "source": [
    "m = leafmap.Map()\n",
    "m.clear_layers()\n",
    "m.add_basemap(\"USGS NAIP Imagery\")\n",
    "m.add_cog_layer(f\"{data_product.url}?API_KEY={api_key}\", name=\"ortho\", zoom_to_layer=True)\n",
    "m"
   ]
  },
  {
   "cell_type": "markdown",
   "id": "d9bb59ee",
   "metadata": {},
   "source": [
    "# Automatic plot detection"
   ]
  },
  {
   "cell_type": "code",
   "execution_count": null,
   "id": "f4a8f8e5",
   "metadata": {},
   "outputs": [
    {
     "name": "stdout",
     "output_type": "stream",
     "text": [
      "Loaded image: ./test.tif\n",
      "Loaded SAM automatic maskgenerator: points per side=32, device=cuda\n",
      "Resized image: (1060, 2121)\n",
      "Estimated orientation angle: 25.02 degree\n",
      "Loaded SAM automatic maskgenerator: points per side=64, device=cuda\n",
      "Initial plots: 286\n",
      "Loaded SAM predictor\n",
      "Refined plots: 286\n",
      "Assigned rows and columns\n",
      "Process completed\n"
     ]
    },
    {
     "data": {
      "application/vnd.jupyter.widget-view+json": {
       "model_id": "9665769ada23477c8646806ee5fadf0d",
       "version_major": 2,
       "version_minor": 0
      },
      "text/plain": [
       "Map(center=[42.44627427344795, -76.43950254217863], controls=(ZoomControl(options=['position', 'zoom_in_text',…"
      ]
     },
     "execution_count": 26,
     "metadata": {},
     "output_type": "execute_result"
    }
   ],
   "source": [
    "# define arguments\n",
    "args = {\n",
    "        'base_layer': data_product, \n",
    "        'api_key': api_key,\n",
    "        'clipped_filename': './test.tif', \n",
    "        'clip_boundary': m.draw_control.last_draw, #optional\n",
    "        'n_rows': 22,\n",
    "        'n_cols': 13,\n",
    "        'plot_width': 3.7,\n",
    "        'plot_height': 1.0,\n",
    "        # 'resize': (320, 640), # optional\n",
    "        'points_per_side': 64, # optional \n",
    "        'iou_threshold': 0.1, # optional\n",
    "        'cc_coverage_thr': 0, # optional\n",
    "        'out_filename': './plot_boundary.geojson',\n",
    "        'sam_checkpoint': \"./sam_vit_h_4b8939.pth\" # path to sam checkpoint\n",
    "        }\n",
    "\n",
    "# automatic detection\n",
    "plot = PlotExtraction(**args)\n",
    "plot_boundary = plot.automatic_detection(save=True)\n",
    "\n",
    "m.clear_layers()\n",
    "m.add_basemap(\"USGS NAIP Imagery\")\n",
    "m.add_cog_layer(plot.data_product_url, name=\"ortho\", zoom_to_layer=True)\n",
    "m.add_geojson(plot_boundary, layer_name=\"Plot boundary\", \n",
    "              style={\"color\": \"cyan\", \"weight\": 1, \"fill\": False}, zoom_to_layer=True)\n",
    "m"
   ]
  },
  {
   "cell_type": "markdown",
   "id": "4b265df6",
   "metadata": {},
   "source": [
    "# Manual operation"
   ]
  },
  {
   "cell_type": "markdown",
   "id": "c10d3ac8",
   "metadata": {},
   "source": [
    "## Remove plot"
   ]
  },
  {
   "cell_type": "code",
   "execution_count": 27,
   "id": "7f9e5986",
   "metadata": {},
   "outputs": [],
   "source": [
    "id = [226]\n",
    "gdf_final = plot.delete(id)\n",
    "gdf_geojson = plot.to_geojson(gdf_final, rotation=False)"
   ]
  },
  {
   "cell_type": "code",
   "execution_count": 28,
   "id": "7d88ee3f",
   "metadata": {},
   "outputs": [
    {
     "data": {
      "application/vnd.jupyter.widget-view+json": {
       "model_id": "9665769ada23477c8646806ee5fadf0d",
       "version_major": 2,
       "version_minor": 0
      },
      "text/plain": [
       "Map(bottom=678.0, center=[np.float64(42.44628668985824), np.float64(-76.43950672526731)], controls=(ZoomContro…"
      ]
     },
     "execution_count": 28,
     "metadata": {},
     "output_type": "execute_result"
    }
   ],
   "source": [
    "m.clear_layers()\n",
    "m.add_basemap(\"USGS NAIP Imagery\")\n",
    "m.add_cog_layer(plot.data_product_url, name=\"ortho\", zoom_to_layer=True)\n",
    "m.add_geojson(gdf_geojson, layer_name=\"Manually removed plot boundary\", \n",
    "              style={\"color\": \"cyan\", \"weight\": 1, \"fill\": False}, zoom_to_layer=True)\n",
    "m"
   ]
  },
  {
   "cell_type": "markdown",
   "id": "8da50527",
   "metadata": {},
   "source": [
    "## Add plot"
   ]
  },
  {
   "cell_type": "code",
   "execution_count": 43,
   "id": "447174dd",
   "metadata": {},
   "outputs": [
    {
     "name": "stdout",
     "output_type": "stream",
     "text": [
      "Loaded SAM predictor\n"
     ]
    }
   ],
   "source": [
    "gdf_final = plot.add(m.draw_control.last_draw)\n",
    "gdf_final.set_crs(f\"EPSG:{plot.epsg}\", inplace=True)\n",
    "gdf_geojson = plot.to_geojson(gdf_final, rotation=False)"
   ]
  },
  {
   "cell_type": "code",
   "execution_count": 44,
   "id": "edf5aa59",
   "metadata": {},
   "outputs": [
    {
     "data": {
      "application/vnd.jupyter.widget-view+json": {
       "model_id": "9665769ada23477c8646806ee5fadf0d",
       "version_major": 2,
       "version_minor": 0
      },
      "text/plain": [
       "Map(bottom=99198775.0, center=[42.44625051817733, -76.43948011100294], controls=(ZoomControl(options=['positio…"
      ]
     },
     "execution_count": 44,
     "metadata": {},
     "output_type": "execute_result"
    }
   ],
   "source": [
    "m.clear_layers()\n",
    "m.add_basemap(\"USGS NAIP Imagery\")\n",
    "m.add_cog_layer(plot.data_product_url, name=\"ortho\", zoom_to_layer=True)\n",
    "m.add_geojson(gdf_geojson, layer_name=\"Manually removed plot boundary\", \n",
    "              style={\"color\": \"cyan\", \"weight\": 1, \"fill\": False}, zoom_to_layer=True)\n",
    "m"
   ]
  },
  {
   "cell_type": "markdown",
   "id": "bde42453",
   "metadata": {},
   "source": [
    "# Export to GeoJSON file"
   ]
  },
  {
   "cell_type": "code",
   "execution_count": null,
   "id": "d1b26b77",
   "metadata": {},
   "outputs": [],
   "source": [
    "gdf_final.to_crs('EPSG:4326').to_file('plot_boundary.geojson', driver='GeoJSON')"
   ]
  },
  {
   "cell_type": "code",
   "execution_count": null,
   "id": "cffc9317",
   "metadata": {},
   "outputs": [],
   "source": []
  },
  {
   "cell_type": "code",
   "execution_count": null,
   "id": "5f38ed22",
   "metadata": {},
   "outputs": [],
   "source": []
  },
  {
   "cell_type": "code",
   "execution_count": null,
   "id": "bef03985",
   "metadata": {},
   "outputs": [],
   "source": []
  },
  {
   "cell_type": "markdown",
   "id": "5de0b3d7",
   "metadata": {},
   "source": [
    "# Step by Step Example"
   ]
  },
  {
   "cell_type": "code",
   "execution_count": null,
   "id": "e0eceba5",
   "metadata": {},
   "outputs": [],
   "source": [
    "# define arguments\n",
    "args = {\n",
    "        'base_layer': data_product, \n",
    "        'api_key': api_key,\n",
    "        'clipped_filename': in_filename,\n",
    "        'clip_boundary': m.draw_control.last_draw, #optional\n",
    "        'n_rows': n_rows,\n",
    "        'n_cols': n_cols,\n",
    "        'plot_width': plot_width,\n",
    "        'plot_height': plot_height,\n",
    "        'resize': (1024,1024), # optional\n",
    "        'points_per_side': 64, # optional \n",
    "        'iou_threshold': 0.1, # optional\n",
    "        'cc_coverage_thr': 0, # optional\n",
    "        'out_filename': 'plot_boundary.geojson',\n",
    "        'sam_checkpoint': \"/data/hans/segment-anything/sam_vit_h_4b8939.pth\" # manual download\n",
    "        }\n",
    "\n",
    "plot = PlotExtraction(**args)"
   ]
  },
  {
   "cell_type": "markdown",
   "id": "dec1734f",
   "metadata": {},
   "source": [
    "# Visualize the base layer"
   ]
  },
  {
   "cell_type": "code",
   "execution_count": null,
   "id": "873ad5c4",
   "metadata": {},
   "outputs": [],
   "source": [
    "m = leafmap.Map()\n",
    "m.clear_layers()\n",
    "m.add_basemap(\"USGS NAIP Imagery\")\n",
    "m.add_cog_layer(f\"{data_product.url}?API_KEY={api_key}\", name=\"ortho\", zoom_to_layer=True)\n",
    "m"
   ]
  },
  {
   "cell_type": "markdown",
   "id": "91506001",
   "metadata": {},
   "source": [
    "# Load image and rotate if needed"
   ]
  },
  {
   "cell_type": "code",
   "execution_count": null,
   "id": "fce26707",
   "metadata": {},
   "outputs": [],
   "source": [
    "# load image to the plot object\n",
    "plot.load_image()\n",
    "\n",
    "# load sam model and get initial plots\n",
    "processing_time = 0\n",
    "sam_checkpoint = \"/data/hans/segment-anything/sam_vit_h_4b8939.pth\"\n",
    "start = time.time()\n",
    "plot.load_sam(sam_checkpoint, points_per_side=16)\n",
    "masks = plot.get_masks()\n",
    "processing_time += time.time() - start\n",
    "print(f\"Processing time: {processing_time:.2f} seconds\")\n",
    "\n",
    "# rotate plot if needed\n",
    "start = time.time()\n",
    "img_rotated = plot.rotate_plot()\n",
    "processing_time += time.time() - start\n",
    "print(f\"Processing time: {processing_time:.2f} seconds\")\n",
    "\n",
    "# visualize the results\n",
    "# from skimage.color import label2rgb\n",
    "\n",
    "# plt.figure(figsize=(5, 15))\n",
    "# plt.imshow(plot.img_array)\n",
    "# plt.imshow(label2rgb(masks), alpha=0.4)\n",
    "# plt.xticks([])\n",
    "# plt.yticks([])\n",
    "# plt.show()\n",
    "\n",
    "# plt.imshow(img_rotated)\n",
    "# plt.xticks([])\n",
    "# plt.yticks([])\n",
    "# plt.show()"
   ]
  },
  {
   "cell_type": "markdown",
   "id": "7c05eea0",
   "metadata": {},
   "source": [
    "# Get initial plots"
   ]
  },
  {
   "cell_type": "code",
   "execution_count": null,
   "id": "5f083492",
   "metadata": {},
   "outputs": [],
   "source": [
    "start = time.time()\n",
    "plot.load_sam(sam_checkpoint, points_per_side=100)\n",
    "initial_plots = plot.initial_plots()\n",
    "processing_time += time.time() - start\n",
    "print(f\"Processing time: {processing_time:.2f} seconds\")\n",
    "\n",
    "initial_plots.set_crs(f'EPSG:{plot.epsg}', inplace=True)\n",
    "gdf_geojson = plot.to_geojson(initial_plots, rotation=True)\n",
    "m.add_geojson(gdf_geojson, layer_name=\"Initial plot boundary\", \n",
    "              style={\"color\": \"red\", \"weight\": 1, \"fill\": False}, zoom_to_layer=True)\n",
    "m"
   ]
  },
  {
   "cell_type": "markdown",
   "id": "5f580a0b",
   "metadata": {},
   "source": [
    "# Grid filling"
   ]
  },
  {
   "cell_type": "code",
   "execution_count": null,
   "id": "833a7d16",
   "metadata": {},
   "outputs": [],
   "source": [
    "start = time.time()\n",
    "plot.load_sam(plot.sam_checkpoint, type='manual')\n",
    "gdf_filled = plot.grid_filling()\n",
    "processing_time += time.time() - start\n",
    "print(f\"Processing time: {processing_time:.2f} seconds\")\n",
    "gdf_filled.set_crs(f'EPSG:{plot.epsg}', inplace=True)\n",
    "gdf_geojson = plot.to_geojson(gdf_filled, rotation=True)\n",
    "\n",
    "m.add_geojson(gdf_geojson, layer_name=\"Filled plot boundary\", \n",
    "              style={\"color\": \"yellow\", \"weight\": 1, \"fill\": False}, zoom_to_layer=True)\n",
    "m"
   ]
  },
  {
   "cell_type": "markdown",
   "id": "87e59f67",
   "metadata": {},
   "source": [
    "# Grid remove"
   ]
  },
  {
   "cell_type": "code",
   "execution_count": null,
   "id": "d4aab4d6",
   "metadata": {},
   "outputs": [],
   "source": [
    "start = time.time()\n",
    "gdf_removed = plot.grid_remove(gdf_filled)\n",
    "gdf_final = plot.assign_row_col(gdf_removed)\n",
    "processing_time += time.time() - start\n",
    "print(f\"Processing time: {processing_time:.2f} seconds\")\n",
    "gdf_final.set_crs(f'EPSG:{plot.epsg}', inplace=True)\n",
    "gdf_geojson = plot.to_geojson(gdf_final, rotation=True)"
   ]
  },
  {
   "cell_type": "code",
   "execution_count": null,
   "id": "abd9fb9a",
   "metadata": {},
   "outputs": [],
   "source": [
    "gdf_geojson = plot.to_geojson(gdf_final, rotation=True)\n",
    "m.add_geojson(gdf_geojson, layer_name=\"Refined plot boundary\", \n",
    "              style={\"color\": \"cyan\", \"weight\": 2, \"fill\": False}, zoom_to_layer=True)\n",
    "m"
   ]
  },
  {
   "cell_type": "markdown",
   "id": "0dab5381",
   "metadata": {},
   "source": [
    "# Export to GeoJSON file"
   ]
  },
  {
   "cell_type": "code",
   "execution_count": null,
   "id": "022a8bfb",
   "metadata": {},
   "outputs": [],
   "source": [
    "gdf_final.to_file('plot_boundary.geojson', driver='GeoJSON')"
   ]
  },
  {
   "cell_type": "code",
   "execution_count": null,
   "id": "d4662cf5",
   "metadata": {},
   "outputs": [],
   "source": []
  }
 ],
 "metadata": {
  "kernelspec": {
   "display_name": "pbe",
   "language": "python",
   "name": "python3"
  },
  "language_info": {
   "codemirror_mode": {
    "name": "ipython",
    "version": 3
   },
   "file_extension": ".py",
   "mimetype": "text/x-python",
   "name": "python",
   "nbconvert_exporter": "python",
   "pygments_lexer": "ipython3",
   "version": "3.10.16"
  }
 },
 "nbformat": 4,
 "nbformat_minor": 5
}
