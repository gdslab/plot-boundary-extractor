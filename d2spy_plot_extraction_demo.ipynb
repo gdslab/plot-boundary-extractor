{
 "cells": [
  {
   "cell_type": "markdown",
   "id": "be2db925",
   "metadata": {},
   "source": [
    "# Extracting field experiment plot boundary using `plot-boundary-extractor` module\n",
    "\n",
    "This is a tutorial on how to extract field experiment plot boundary using `plot-boundary-extractor` module. \n",
    "\n",
    "This repository is associated with our research on **Developing a segment anything model-based framework for automated plot extraction**, which has been submitted to *Precision Agriculture* and is currently under review.\n",
    "\n",
    "---\n",
    "\n",
    "*Written by [Hansae Kim](https://gdsl.org/team/hansae-kim/) and [Jinha Jung](https://gdsl.org/team/jinha-jung/)*\n",
    "\n",
    "## `plot-boundary-extractor` installation\n",
    "\n",
    "### Set up a virtual environment\n",
    "\n",
    "First, we need to install `plot-boundary-extractor` on the machine you would like to run this example tutorial. We will set up a new Python Virtual Environment called `pbe`. \n",
    "\n",
    "```bash\n",
    "$ conda create -n pbe -c conda-forge gdal python=3.10 -y\n",
    "```\n",
    "\n",
    "We need to activate the newly created virtual environment before proceeding.\n",
    "\n",
    "```bash\n",
    "$ conda activate pbe\n",
    "```\n",
    "\n",
    "### Install `plot-boundary-extractor` module\n",
    "\n",
    "Now we need to install `plot-boundary-extractor` module using `pip`.\n",
    "\n",
    "```bash\n",
    "$ pip install plot-boundary-extractor\n",
    "```\n",
    "\n",
    "### Install torch\n",
    "\n",
    "The `plot-boundary-extractor` module uses `torch` module, so we need to install it on the machine you would like to run this example tutorial. \n",
    "\n",
    "#### CPU version\n",
    "\n",
    "If your machine is not equipped with NVIDIA GPU, then you will have to install the `torch` without GPU support.\n",
    "\n",
    "```bash\n",
    "$ pip install torch torchvision\n",
    "```\n",
    "\n",
    "#### GPU version\n",
    "\n",
    "If your machine is equipped with NVIDIA GPU, then you will have to install the `torch` with GPU support.\n",
    "\n",
    "```bash\n",
    "$ pip install torch torchvision --index-url https://download.pytorch.org/whl/cu118\n",
    "```\n",
    "\n",
    "### Install `SAM`\n",
    "\n",
    "The `plot-boundary-extractor` uses `SAM` to detect plot boundary automatically, so you have to install `SAM` using the below command.\n",
    "\n",
    "```bash\n",
    "$ pip install git+https://github.com/facebookresearch/segment-anything.git\n",
    "```\n",
    "\n",
    "You also have to download a pre-trained model using the below command. Please make a note where you're downloading the pre-trained model. We will need this path information in the later tutorial.\n",
    "\n",
    "```bash\n",
    "$ wget https://dl.fbaipublicfiles.com/segment_anything/sam_vit_h_4b8939.pth\n",
    "```\n",
    "\n",
    "Now the installation is done, and you're ready to go to the next step"
   ]
  },
  {
   "cell_type": "markdown",
   "id": "a54e3706",
   "metadata": {},
   "source": [
    "## Importing modules\n",
    "\n",
    "You have to load modules required for this tutorial\n",
    "\n",
    "* `os` module: This module is required to work with file structure on the machine.\n",
    "* `leafmap` module: This module is used to visualize orthomosaic images from D2S interactively and also specify the area of interests.\n",
    "* `datetime` module: This module is used to specify the time windows to query orthomosaic images from D2S.\n",
    "* `d2spy` module: This module is used to connect to D2S and stream required data products.\n",
    "* `d2s_env` module: This is a custom module that contains my login information. A separate link will be added here later for more details.\n",
    "* `plot_boundary_extractor` module: This is the one we will use to extract plot boundaries."
   ]
  },
  {
   "cell_type": "code",
   "execution_count": 1,
   "id": "989b96a6-6044-488c-97dd-33f6ffa32580",
   "metadata": {},
   "outputs": [],
   "source": [
    "import os\n",
    "import leafmap\n",
    "from datetime import date\n",
    "from d2spy.workspace import Workspace\n",
    "import d2s_env\n",
    "from plot_boundary_extractor import PlotExtraction"
   ]
  },
  {
   "cell_type": "markdown",
   "id": "00b8a2de",
   "metadata": {},
   "source": [
    "## Find the data product from D2S\n",
    "\n",
    "This section will show you how to connect to D2S using `d2spy` module and find the data product to perform plot boundary extraction.\n",
    "\n",
    "### Connect to a D2S workspace\n",
    "\n",
    "You can use the code below to connect to a D2S instance. In this case, you are connecting to a PS2 (Plant Science 2.0 - https://www.purdue.edu/purduemoves/plant-sciences-2-0/) instance. The PS2 D2S instance is currently managed by Dr. Jinha Jung's research group (https://gdsl.org) and it is freely available as of March, 2025. \n",
    "\n",
    "D2S stores data using the following structure.\n",
    "\n",
    "* Workspace\n",
    "  * Project 1\n",
    "    * Flight 1\n",
    "      * Raw data\n",
    "      * Data product 1\n",
    "      * Data product 2\n",
    "      * ...\n",
    "      * Data product L\n",
    "    * ...\n",
    "    * Flight M\n",
    "  * Project 2\n",
    "  * ...\n",
    "  * Project N\n",
    "  \n",
    "That being said, first step is to connect to a D2S workspace using the code below. "
   ]
  },
  {
   "cell_type": "code",
   "execution_count": 3,
   "id": "20c6e48a-d3b8-41e1-9277-bf4164bbbe76",
   "metadata": {},
   "outputs": [],
   "source": [
    "# Connect to workspace\n",
    "workspace = Workspace.connect(\"https://ps2.d2s.org\")\n",
    "\n",
    "# If you don't have d2s_env setup, then you will have to specify your login email. This will ask you type in your password.\n",
    "# workspace = Workspace.connect(\"https://ps2.d2s.org\", \"YOUR@EMAIL.ADDRESS\")"
   ]
  },
  {
   "cell_type": "markdown",
   "id": "f344b751",
   "metadata": {},
   "source": [
    "Not all data are publicly available in D2S, as the owner of the project has a full control on who can access the data. When the data are protected, you need to authenticate yourself to access those data programatically. For a programatic authentication, you need to grab your `API_KEY` generated from the D2S instance. You can do that using the code below. The below code is also setting a TiTiler URL for dynamic tiling. "
   ]
  },
  {
   "cell_type": "code",
   "execution_count": 12,
   "id": "f9e3776e",
   "metadata": {},
   "outputs": [],
   "source": [
    "# Check for API key\n",
    "api_key = workspace.api_key\n",
    "if not api_key:\n",
    "    print(\"No API key. Please request one from the D2S profile page and re-run this cell.\")\n",
    "else:\n",
    "    os.environ[\"D2S_API_KEY\"] = api_key\n",
    "    \n",
    "os.environ[\"TITILER_ENDPOINT\"] = \"https://tt.d2s.org\""
   ]
  },
  {
   "cell_type": "markdown",
   "id": "d66d43a0",
   "metadata": {},
   "source": [
    "### Find a project\n",
    "\n",
    "Once you're connected to a D2S instance, you need to find a project that contains data products you need. In this example, we will use 2022 Cornell WheatCAP yield trial project as an example.\n",
    "\n",
    "You can use `workspace.get_projects()` to get a list of all projects you have access, then filter the list further using `.filter_by_title()` function to narrow it down to a smaller list. "
   ]
  },
  {
   "cell_type": "code",
   "execution_count": 6,
   "id": "a70a191f",
   "metadata": {},
   "outputs": [
    {
     "name": "stdout",
     "output_type": "stream",
     "text": [
      "0 Project(title='2023 Cornell Wheat', description='USDA WheatCAP Project - Cornell University 2023 Winter Wheat Master Nursery trial at Ithaca, NY - McGowan', start_date=datetime.date(2022, 10, 11), end_date=datetime.date(2023, 6, 29))\n",
      "1 Project(title='2024 Cornell Wheat', description='USDA WheatCAP Project - Cornell University 2024 Winter Wheat Master Nursery trial at Ithaca, NY - Helfer', start_date=datetime.date(2023, 10, 11), end_date=datetime.date(2024, 7, 8))\n",
      "2 Project(title='2022 Cornell Wheat', description='USDA WheatCAP Project - Cornell University 2022 WWMASTER2022ACCT3 trial at Ithaca, NY - Helfer', start_date=datetime.date(2021, 10, 21))\n"
     ]
    }
   ],
   "source": [
    "# Change the search term in `.filter_by_title` to match your project\n",
    "project = workspace.get_projects().filter_by_title(\"cornell\")\n",
    "for i, proj in enumerate(project):\n",
    "    print(i, proj)"
   ]
  },
  {
   "cell_type": "markdown",
   "id": "ab87f625",
   "metadata": {},
   "source": [
    "The above code resulted returned 3 D2S projects, and we will choose the 2022 trial."
   ]
  },
  {
   "cell_type": "code",
   "execution_count": 7,
   "id": "62920d74",
   "metadata": {},
   "outputs": [],
   "source": [
    "project = project[2]"
   ]
  },
  {
   "cell_type": "markdown",
   "id": "7e5b51e6",
   "metadata": {},
   "source": [
    "### Find a flight\n",
    "\n",
    "Once you choose a project, the selected project may have multiple flights. You can use `project.get_flights()` function to get a list of all flights in the selected project, then filter the list further using `.filter_by_date()` function to narrow it down to a smaller list."
   ]
  },
  {
   "cell_type": "code",
   "execution_count": 8,
   "id": "7ccbe9a6",
   "metadata": {},
   "outputs": [
    {
     "name": "stdout",
     "output_type": "stream",
     "text": [
      "0 Flight(acquisition_date='2022-04-20', name='', altitude=120.0, side_overlap=60.0, forward_overlap=75.0, sensor='Multispectral', platform='M300')\n",
      "1 Flight(acquisition_date='2022-05-11', name=None, altitude=120.0, side_overlap=60.0, forward_overlap=75.0, sensor='RGB', platform='Phantom_4')\n",
      "2 Flight(acquisition_date='2022-05-25', name='', altitude=120.0, side_overlap=60.0, forward_overlap=75.0, sensor='Multispectral', platform='Phantom_4')\n",
      "3 Flight(acquisition_date='2022-04-20', name=None, altitude=120.0, side_overlap=60.0, forward_overlap=75.0, sensor='RGB', platform='Phantom_4')\n",
      "4 Flight(acquisition_date='2022-04-30', name=None, altitude=120.0, side_overlap=60.0, forward_overlap=75.0, sensor='RGB', platform='Phantom_4')\n",
      "5 Flight(acquisition_date='2022-04-30', name='', altitude=120.0, side_overlap=60.0, forward_overlap=75.0, sensor='Multispectral', platform='M300')\n",
      "6 Flight(acquisition_date='2022-05-11', name='', altitude=120.0, side_overlap=60.0, forward_overlap=75.0, sensor='Multispectral', platform='M300')\n"
     ]
    }
   ],
   "source": [
    "# Change the date range in `filter_by_date` to match the acquistion date of the flight in your project\n",
    "start_date = date(2022,4,1)\n",
    "end_date = date(2022,5,31)\n",
    "flights = project.get_flights().filter_by_date(start_date,end_date)\n",
    "for i, flight in enumerate(flights):\n",
    "    print(i,flight)"
   ]
  },
  {
   "cell_type": "markdown",
   "id": "fb046ae7",
   "metadata": {},
   "source": [
    "After filtering flights by a specific time window, we got 6 flights in the list. We will use a RGB flight collected on `05/11/2022` in this tutorial"
   ]
  },
  {
   "cell_type": "code",
   "execution_count": 9,
   "id": "849dbb65",
   "metadata": {},
   "outputs": [],
   "source": [
    "flight = flights[1]"
   ]
  },
  {
   "cell_type": "markdown",
   "id": "28009928",
   "metadata": {},
   "source": [
    "### Find a data product\n",
    "\n",
    "Each flight can contain multiple data products. Let's check what data products are available from the selected flight first."
   ]
  },
  {
   "cell_type": "code",
   "execution_count": 10,
   "id": "4f3492d3",
   "metadata": {},
   "outputs": [
    {
     "name": "stdout",
     "output_type": "stream",
     "text": [
      "0 DataProduct(data_type='ortho', filepath='/static/projects/b4ab960b-9629-46d7-881c-5612fd5ee0dd/flights/0d73f050-6a66-4922-851c-9b98e2a45dab/data_products/58822a09-c290-41ac-8248-a306fe5299cf/7c782101-90a6-42a5-b39f-c5b70d0cfb4a.tif', original_filename='20220511_cn_mic_dry_mosaic_rgb.tif', is_active=True, public=True, stac_properties={'raster': [{'data_type': 'uint8', 'stats': {'minimum': 0.0, 'maximum': 255.0, 'mean': 112.381, 'stddev': 89.018}}, {'data_type': 'uint8', 'stats': {'minimum': 0.0, 'maximum': 255.0, 'mean': 115.057, 'stddev': 66.764}}, {'data_type': 'uint8', 'stats': {'minimum': 0.0, 'maximum': 255.0, 'mean': 73.811, 'stddev': 57.792}}, {'data_type': 'uint8', 'stats': {'minimum': 0.0, 'maximum': 255.0, 'mean': 93.907, 'stddev': 122.995}}], 'eo': [{'name': 'b1', 'description': 'Red'}, {'name': 'b2', 'description': 'Green'}, {'name': 'b3', 'description': 'Blue'}, {'name': 'b4', 'description': 'Alpha'}]}, status='SUCCESS', url='https://ps2.d2s.org/static/projects/b4ab960b-9629-46d7-881c-5612fd5ee0dd/flights/0d73f050-6a66-4922-851c-9b98e2a45dab/data_products/58822a09-c290-41ac-8248-a306fe5299cf/7c782101-90a6-42a5-b39f-c5b70d0cfb4a.tif')\n",
      "1 DataProduct(data_type='ExG', filepath='/static/projects/b4ab960b-9629-46d7-881c-5612fd5ee0dd/flights/0d73f050-6a66-4922-851c-9b98e2a45dab/data_products/6c7dd188-88f8-4919-96cc-fef147e180d3/fd92c2b7-0598-43b9-b8bb-0279474be5aa.tif', original_filename='20220511_cn_mic_dry_mosaic_rgb.tif', is_active=True, public=True, stac_properties={'raster': [{'data_type': 'float32', 'stats': {'minimum': -0.267, 'maximum': 2.0, 'mean': 0.29, 'stddev': 0.26}}], 'eo': [{'name': 'b1', 'description': 'Gray'}]}, status='SUCCESS', url='https://ps2.d2s.org/static/projects/b4ab960b-9629-46d7-881c-5612fd5ee0dd/flights/0d73f050-6a66-4922-851c-9b98e2a45dab/data_products/6c7dd188-88f8-4919-96cc-fef147e180d3/fd92c2b7-0598-43b9-b8bb-0279474be5aa.tif')\n",
      "2 DataProduct(data_type='dsm', filepath='/static/projects/b4ab960b-9629-46d7-881c-5612fd5ee0dd/flights/0d73f050-6a66-4922-851c-9b98e2a45dab/data_products/1c3dc284-03be-459b-8540-6551ae64007e/e2fa689a-195b-4efa-9100-252a74a888e1.tif', original_filename='20220511_cn_mic_dry_dsm.tif', is_active=True, public=False, stac_properties={'raster': [{'data_type': 'float32', 'stats': {'minimum': 255.256, 'maximum': 260.467, 'mean': 257.074, 'stddev': 0.556}, 'nodata': None, 'unit': 'metre'}], 'eo': [{'name': 'b1', 'description': 'Gray'}]}, status='SUCCESS', url='https://ps2.d2s.org/static/projects/b4ab960b-9629-46d7-881c-5612fd5ee0dd/flights/0d73f050-6a66-4922-851c-9b98e2a45dab/data_products/1c3dc284-03be-459b-8540-6551ae64007e/e2fa689a-195b-4efa-9100-252a74a888e1.tif')\n",
      "3 DataProduct(data_type='CHM', filepath='/static/projects/b4ab960b-9629-46d7-881c-5612fd5ee0dd/flights/0d73f050-6a66-4922-851c-9b98e2a45dab/data_products/c4a8c082-a12a-44ab-b466-b654b312d621/6275d89a-a611-4e6b-b7d2-544bd79434b4.tif', original_filename='20220511_cornell_chm.tif', is_active=True, public=False, stac_properties={'raster': [{'data_type': 'float32', 'stats': {'minimum': -0.195, 'maximum': 0.163, 'mean': 0.007, 'stddev': 0.034}, 'nodata': None}], 'eo': [{'name': 'b1', 'description': 'Gray'}]}, status='SUCCESS', url='https://ps2.d2s.org/static/projects/b4ab960b-9629-46d7-881c-5612fd5ee0dd/flights/0d73f050-6a66-4922-851c-9b98e2a45dab/data_products/c4a8c082-a12a-44ab-b466-b654b312d621/6275d89a-a611-4e6b-b7d2-544bd79434b4.tif')\n"
     ]
    }
   ],
   "source": [
    "data_products = flight.get_data_products()\n",
    "\n",
    "for i, data_product in enumerate(data_products):\n",
    "    print(i, data_product)"
   ]
  },
  {
   "cell_type": "markdown",
   "id": "364c7ec5",
   "metadata": {},
   "source": [
    "As you can see from the above, there are 4 data products available in the selected flight. We need an orthomosaic image for plot boundary extraction, so we need to choose `ortho` data product."
   ]
  },
  {
   "cell_type": "code",
   "execution_count": 11,
   "id": "d3538bc0",
   "metadata": {},
   "outputs": [],
   "source": [
    "data_product = data_products[0]"
   ]
  },
  {
   "cell_type": "markdown",
   "id": "b5edc399",
   "metadata": {},
   "source": [
    "### Visualize the data product\n",
    "\n",
    "Now, we can visualize the selected data product using `leafmap` module using the code below."
   ]
  },
  {
   "cell_type": "code",
   "execution_count": null,
   "id": "75782ea7",
   "metadata": {},
   "outputs": [],
   "source": [
    "m = leafmap.Map()\n",
    "m.clear_layers()\n",
    "m.add_basemap(\"USGS NAIP Imagery\")\n",
    "m.add_cog_layer(f\"{data_product.url}?API_KEY={api_key}\", name=\"ortho\", zoom_to_layer=True)\n",
    "m"
   ]
  },
  {
   "cell_type": "markdown",
   "id": "d9bb59ee",
   "metadata": {},
   "source": [
    "## Extracting plot boundaries\n",
    "\n",
    "Now, we can see an orthomosaic image in an interactive map. You can zoom into a area where your field experiment is located. We need the following information to run the `plot-boundary-extractor` code.\n",
    "\n",
    "* `base_layer`: This is the data product to run the algorithm on. The selected data product is used here automatically in the code below.\n",
    "* `api_key`: This is the `API_KEY` to access the selected data product. \n",
    "* `clipped_filename`: where to save the clipped orthomosaic image\n",
    "* `clip_boundary`: This is a boundary of your field experiment. You can use the drawing tool (located in the left side of the map) to draw a polygon around your field experiment. The last drawn polygon will be used here.\n",
    "* `n_rows`: Number of rows in the field experiment\n",
    "* `n_cols`: Number of columns in the field experiment\n",
    "* `plot_width`: Width of each plot (in the unit of the data product, i.e., if the data product is in meter, then it will be in meter)\n",
    "* `plot_height`: Height of each plot (in the unit of the data product, i.e., if the data product is in meter, then it will be in meter)\n",
    "* `resize`: (Optional) You can optionally set (height, width) to make the clipped image smaller. This can be useful when you don't have a powerful GPU to run this code. When specifying the image size, keep the image aspect ratio as much as possible.\n",
    "* `points_per_side`: (Optional) Number of seed points to use on each side\n",
    "* `iou_threshold`: (Optional) IoU threshold value to determine initial plot candidates\n",
    "* `cc_coverage_thr`: (Optional) Canopy Cover threshold value to determine initial plot candidates\n",
    "* `out_filename`: Output file name for automatically detected plot boundaries in GeoJSON format\n",
    "* `sam_checkpoint`: Full path to the `SAM` pre-trained model\n",
    "\n",
    "Once you specify the above in `arg` dictionary, now you can perform the plot boundary extraction using the code below.\n"
   ]
  },
  {
   "cell_type": "code",
   "execution_count": null,
   "id": "f4a8f8e5",
   "metadata": {},
   "outputs": [
    {
     "name": "stdout",
     "output_type": "stream",
     "text": [
      "Loaded image: ./2022_cornell_wheat_example.tif\n",
      "Loaded SAM automatic maskgenerator: points per side=32, device=cuda\n",
      "Resized image: (1060, 2121)\n",
      "Estimated orientation angle: 25.02 degree\n",
      "Loaded SAM automatic maskgenerator: points per side=10, device=cuda\n",
      "Initial plots: 74\n",
      "Loaded SAM predictor\n",
      "Detected missing plots: 212\n",
      "Refined plots: 283\n",
      "Assigned rows and columns\n",
      "Process completed\n"
     ]
    },
    {
     "data": {
      "application/vnd.jupyter.widget-view+json": {
       "model_id": "2d475b8b24a64445a66532f69dece4bd",
       "version_major": 2,
       "version_minor": 0
      },
      "text/plain": [
       "Map(bottom=99198733.0, center=[42.44629208201381, -76.43943920731544], controls=(ZoomControl(options=['positio…"
      ]
     },
     "execution_count": 14,
     "metadata": {},
     "output_type": "execute_result"
    }
   ],
   "source": [
    "# define arguments\n",
    "args = {\n",
    "        'base_layer': data_product, \n",
    "        'api_key': api_key,\n",
    "        'clipped_filename': './2022_cornell_wheat_example.tif', \n",
    "        'clip_boundary': m.draw_control.last_draw, #optional\n",
    "        'n_rows':22,\n",
    "        'n_cols': 13,\n",
    "        'plot_width': 3.7,\n",
    "        'plot_height': 1.0,\n",
    "        # 'resize': (320, 640), # optional\n",
    "        'points_per_side': 10, # optional \n",
    "        'iou_threshold': 0.1, # optional\n",
    "        'cc_coverage_thr': 0, # optional\n",
    "        'out_filename': './2022_cornell_wheat_plot_boundary.geojson', # path to save plot boundary\n",
    "        'sam_checkpoint': \"./sam_vit_h_4b8939.pth\" # path to SAM checkpoint\n",
    "        }\n",
    "\n",
    "# automatic detection\n",
    "plot = PlotExtraction(**args)\n",
    "plot.automatic_detection(save=True)\n",
    "plot.show(m)"
   ]
  },
  {
   "cell_type": "markdown",
   "id": "4b265df6",
   "metadata": {},
   "source": [
    "## Manual plot boundary operation\n",
    "\n",
    "Although the above procedure works well in most cases, there could be some cases where you may to manually delete some plots or add any missing plots. Following instruction shows you how to do manual plot boundary deletion or addition. "
   ]
  },
  {
   "cell_type": "markdown",
   "id": "c10d3ac8",
   "metadata": {},
   "source": [
    "### Remove a plot\n",
    "\n",
    "You can use the `leafmap` built-in function to identify an `id` of the plot you would like to delete. You can delete a specific plot using the code below. "
   ]
  },
  {
   "cell_type": "code",
   "execution_count": null,
   "id": "7f9e5986",
   "metadata": {},
   "outputs": [],
   "source": [
    "id = [122]\n",
    "plot.delete(id)\n",
    "plot.show(m)"
   ]
  },
  {
   "cell_type": "markdown",
   "id": "8da50527",
   "metadata": {},
   "source": [
    "### Add plot\n",
    "\n",
    "When there is any plot missing from the generated boundaries, you can using the drawing tool to draw a small polygon within the missing plot, then run the following code to manually add the missing plot. "
   ]
  },
  {
   "cell_type": "code",
   "execution_count": null,
   "id": "447174dd",
   "metadata": {},
   "outputs": [],
   "source": [
    "plot.add(m.draw_control.last_draw)\n",
    "plot.show(m)"
   ]
  },
  {
   "cell_type": "markdown",
   "id": "bde42453",
   "metadata": {},
   "source": [
    "## Export the plot boundary to GeoJSON file\n",
    "\n",
    "When everything is done, now you can export the extracted plot boundary to a final GeoJSON file. Since the GeoJSON format standard requires `EPSG:4326`, the below code will transform the data into `EPSG:4326` and save it to your machine."
   ]
  },
  {
   "cell_type": "code",
   "execution_count": null,
   "id": "d1b26b77",
   "metadata": {},
   "outputs": [],
   "source": [
    "plot.to_file('plot_boundary.geojson')"
   ]
  },
  {
   "cell_type": "code",
   "execution_count": null,
   "id": "cffc9317",
   "metadata": {},
   "outputs": [],
   "source": []
  },
  {
   "cell_type": "code",
   "execution_count": null,
   "id": "5f38ed22",
   "metadata": {},
   "outputs": [],
   "source": []
  },
  {
   "cell_type": "code",
   "execution_count": null,
   "id": "bef03985",
   "metadata": {},
   "outputs": [],
   "source": []
  },
  {
   "cell_type": "markdown",
   "id": "5de0b3d7",
   "metadata": {},
   "source": [
    "# Step by Step Example"
   ]
  },
  {
   "cell_type": "code",
   "execution_count": null,
   "id": "e0eceba5",
   "metadata": {},
   "outputs": [],
   "source": [
    "# define arguments\n",
    "args = {\n",
    "        'base_layer': data_product, \n",
    "        'api_key': api_key,\n",
    "        'clipped_filename': in_filename,\n",
    "        'clip_boundary': m.draw_control.last_draw, #optional\n",
    "        'n_rows': n_rows,\n",
    "        'n_cols': n_cols,\n",
    "        'plot_width': plot_width,\n",
    "        'plot_height': plot_height,\n",
    "        'resize': (1024,1024), # optional\n",
    "        'points_per_side': 64, # optional \n",
    "        'iou_threshold': 0.1, # optional\n",
    "        'cc_coverage_thr': 0, # optional\n",
    "        'out_filename': 'plot_boundary.geojson',\n",
    "        'sam_checkpoint': \"/data/hans/segment-anything/sam_vit_h_4b8939.pth\" # manual download\n",
    "        }\n",
    "\n",
    "plot = PlotExtraction(**args)"
   ]
  },
  {
   "cell_type": "markdown",
   "id": "dec1734f",
   "metadata": {},
   "source": [
    "# Visualize the base layer"
   ]
  },
  {
   "cell_type": "code",
   "execution_count": null,
   "id": "873ad5c4",
   "metadata": {},
   "outputs": [],
   "source": [
    "m = leafmap.Map()\n",
    "m.clear_layers()\n",
    "m.add_basemap(\"USGS NAIP Imagery\")\n",
    "m.add_cog_layer(f\"{data_product.url}?API_KEY={api_key}\", name=\"ortho\", zoom_to_layer=True)\n",
    "m"
   ]
  },
  {
   "cell_type": "markdown",
   "id": "91506001",
   "metadata": {},
   "source": [
    "# Load image and rotate if needed"
   ]
  },
  {
   "cell_type": "code",
   "execution_count": null,
   "id": "fce26707",
   "metadata": {},
   "outputs": [],
   "source": [
    "# load image to the plot object\n",
    "plot.load_image()\n",
    "\n",
    "# load sam model and get initial plots\n",
    "processing_time = 0\n",
    "sam_checkpoint = \"./sam_vit_h_4b8939.pth\"\n",
    "plot.load_sam(sam_checkpoint, points_per_side=16)\n",
    "masks = plot.get_masks()\n",
    "\n",
    "# rotate plot if needed\n",
    "img_rotated = plot.rotate_plot()\n",
    "\n",
    "# visualize the results\n",
    "# from skimage.color import label2rgb\n",
    "\n",
    "# plt.figure(figsize=(5, 15))\n",
    "# plt.imshow(plot.img_array)\n",
    "# plt.imshow(label2rgb(masks), alpha=0.4)\n",
    "# plt.xticks([])\n",
    "# plt.yticks([])\n",
    "# plt.show()\n",
    "\n",
    "# plt.imshow(img_rotated)\n",
    "# plt.xticks([])\n",
    "# plt.yticks([])\n",
    "# plt.show()"
   ]
  },
  {
   "cell_type": "markdown",
   "id": "7c05eea0",
   "metadata": {},
   "source": [
    "# Get initial plots"
   ]
  },
  {
   "cell_type": "code",
   "execution_count": null,
   "id": "5f083492",
   "metadata": {},
   "outputs": [],
   "source": [
    "plot.load_sam(sam_checkpoint, points_per_side=100)\n",
    "initial_plots = plot.initial_plots()\n",
    "\n",
    "initial_plots.set_crs(f'EPSG:{plot.epsg}', inplace=True)\n",
    "gdf_geojson = plot.to_geojson(initial_plots, rotation=True)\n",
    "m.add_geojson(gdf_geojson, layer_name=\"Initial plot boundary\", \n",
    "              style={\"color\": \"red\", \"weight\": 1, \"fill\": False}, zoom_to_layer=True)\n",
    "m"
   ]
  },
  {
   "cell_type": "markdown",
   "id": "5f580a0b",
   "metadata": {},
   "source": [
    "# Grid filling"
   ]
  },
  {
   "cell_type": "code",
   "execution_count": null,
   "id": "833a7d16",
   "metadata": {},
   "outputs": [],
   "source": [
    "plot.load_sam(plot.sam_checkpoint, type='manual')\n",
    "gdf_filled = plot.grid_filling()\n",
    "print(f\"Processing time: {processing_time:.2f} seconds\")\n",
    "gdf_filled.set_crs(f'EPSG:{plot.epsg}', inplace=True)\n",
    "gdf_geojson = plot.to_geojson(gdf_filled, rotation=True)\n",
    "\n",
    "m.add_geojson(gdf_geojson, layer_name=\"Filled plot boundary\", \n",
    "              style={\"color\": \"yellow\", \"weight\": 1, \"fill\": False}, zoom_to_layer=True)\n",
    "m"
   ]
  },
  {
   "cell_type": "markdown",
   "id": "87e59f67",
   "metadata": {},
   "source": [
    "# Grid remove"
   ]
  },
  {
   "cell_type": "code",
   "execution_count": null,
   "id": "d4aab4d6",
   "metadata": {},
   "outputs": [],
   "source": [
    "gdf_removed = plot.grid_remove(gdf_filled)\n",
    "gdf_final = plot.assign_row_col(gdf_removed)\n",
    "gdf_final.set_crs(f'EPSG:{plot.epsg}', inplace=True)\n",
    "gdf_geojson = plot.to_geojson(gdf_final, rotation=True)"
   ]
  },
  {
   "cell_type": "code",
   "execution_count": null,
   "id": "abd9fb9a",
   "metadata": {},
   "outputs": [],
   "source": [
    "gdf_geojson = plot.to_geojson(gdf_final, rotation=True)\n",
    "m.add_geojson(gdf_geojson, layer_name=\"Refined plot boundary\", \n",
    "              style={\"color\": \"cyan\", \"weight\": 2, \"fill\": False}, zoom_to_layer=True)\n",
    "m"
   ]
  },
  {
   "cell_type": "markdown",
   "id": "0dab5381",
   "metadata": {},
   "source": [
    "# Export to GeoJSON file"
   ]
  },
  {
   "cell_type": "code",
   "execution_count": null,
   "id": "022a8bfb",
   "metadata": {},
   "outputs": [],
   "source": [
    "gdf_final.to_file('plot_boundary.geojson', driver='GeoJSON')"
   ]
  },
  {
   "cell_type": "code",
   "execution_count": null,
   "id": "d4662cf5",
   "metadata": {},
   "outputs": [],
   "source": []
  }
 ],
 "metadata": {
  "kernelspec": {
   "display_name": "pbe",
   "language": "python",
   "name": "python3"
  },
  "language_info": {
   "codemirror_mode": {
    "name": "ipython",
    "version": 3
   },
   "file_extension": ".py",
   "mimetype": "text/x-python",
   "name": "python",
   "nbconvert_exporter": "python",
   "pygments_lexer": "ipython3",
   "version": "3.10.16"
  }
 },
 "nbformat": 4,
 "nbformat_minor": 5
}
